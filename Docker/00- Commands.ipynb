{
 "cells": [
  {
   "cell_type": "markdown",
   "id": "a13f0c86",
   "metadata": {},
   "source": [
    "### Links:\n",
    "* [Play with docker](https://labs.play-with-docker.com/)\n",
    "\n",
    "## Commands\n",
    "\n",
    "\n",
    "<img src='../img/Screenshot from 2023-03-10 11-39-41.png' />\n",
    "<img src='../img/Screenshot from 2023-03-10 12-48-55.png' />\n",
    "\n",
    "```\n",
    " - docker compose down --rmi all\n",
    " - build image :  docker build -t hello-docker-from-js .(dockerfile path)\n",
    " - docker pull docker_image   \n",
    " - docker push m74asoud/docker_image\n",
    " - pwd => current linux directory\n",
    " - echo \"console.log('hello docker')\" > /app/app.js\n",
    " - echo \"console.log('hello docker')\" >> /app/app.js\n",
    " - mv /app/app.js /app/index.js\n",
    " - ctrl + l\n",
    " - ctrl + w\n",
    " - head/tail/more/less/cat filename\n",
    " - grep -i -r Hello app* ./dir\n",
    " - find / file_or_directory_name\n",
    " - find / -type f/d file_or_directory_name\n",
    " - find / -type d -iname \"sec*\" (uncasesensitive)\n",
    " \n",
    " \n",
    " Chaining commands:\n",
    "  - mkdir /app; cd /app; echo hello; (if each command failed another command worked)\n",
    "  - mkdir /app && cd /app && echo hello && (if each command failed another command failed)\n",
    "  - mkdir /app || echo directory exist (if first command failed next command is fire)\n",
    "  - ls /bin | grep *.py\n",
    "  - ls /bin | less\n",
    "  \n",
    "  - mkdir /app;\\\n",
    "    cd /app;\\\n",
    "    cat app.js\n",
    "    \n",
    "    \n",
    "\n",
    "```\n",
    "\n",
    "1:05:27"
   ]
  },
  {
   "cell_type": "code",
   "execution_count": null,
   "id": "6869861e",
   "metadata": {},
   "outputs": [],
   "source": []
  },
  {
   "cell_type": "code",
   "execution_count": null,
   "id": "fcc95cf3",
   "metadata": {},
   "outputs": [],
   "source": []
  },
  {
   "cell_type": "code",
   "execution_count": null,
   "id": "06de2f5a",
   "metadata": {},
   "outputs": [],
   "source": []
  },
  {
   "cell_type": "code",
   "execution_count": null,
   "id": "45fb5911",
   "metadata": {},
   "outputs": [],
   "source": []
  }
 ],
 "metadata": {
  "kernelspec": {
   "display_name": "Python 3 (ipykernel)",
   "language": "python",
   "name": "python3"
  },
  "language_info": {
   "codemirror_mode": {
    "name": "ipython",
    "version": 3
   },
   "file_extension": ".py",
   "mimetype": "text/x-python",
   "name": "python",
   "nbconvert_exporter": "python",
   "pygments_lexer": "ipython3",
   "version": "3.9.13"
  }
 },
 "nbformat": 4,
 "nbformat_minor": 5
}
