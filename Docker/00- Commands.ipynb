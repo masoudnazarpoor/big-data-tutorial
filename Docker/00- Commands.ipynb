{
 "cells": [
  {
   "cell_type": "markdown",
   "id": "a13f0c86",
   "metadata": {},
   "source": [
    "### Links:\n",
    "* [Play with docker](https://labs.play-with-docker.com/)\n",
    "\n",
    "## Commands\n",
    "\n",
    "\n",
    "<img src='../img/Screenshot from 2023-03-10 11-39-41.png' />\n",
    "<img src='../img/Screenshot from 2023-03-10 12-48-55.png' />\n",
    "\n",
    "```\n",
    " - docker compose down --rmi all\n",
    " - build image :  docker build -t hello-docker-from-js .(dockerfile path)\n",
    " - docker pull docker_image   \n",
    " - docker push m74asoud/docker_image\n",
    "\n",
    "\n",
    "```\n",
    "\n",
    "28:00"
   ]
  },
  {
   "cell_type": "code",
   "execution_count": null,
   "id": "6869861e",
   "metadata": {},
   "outputs": [],
   "source": []
  },
  {
   "cell_type": "code",
   "execution_count": null,
   "id": "fcc95cf3",
   "metadata": {},
   "outputs": [],
   "source": []
  },
  {
   "cell_type": "code",
   "execution_count": null,
   "id": "06de2f5a",
   "metadata": {},
   "outputs": [],
   "source": []
  },
  {
   "cell_type": "code",
   "execution_count": null,
   "id": "45fb5911",
   "metadata": {},
   "outputs": [],
   "source": []
  }
 ],
 "metadata": {
  "kernelspec": {
   "display_name": "Python 3 (ipykernel)",
   "language": "python",
   "name": "python3"
  },
  "language_info": {
   "codemirror_mode": {
    "name": "ipython",
    "version": 3
   },
   "file_extension": ".py",
   "mimetype": "text/x-python",
   "name": "python",
   "nbconvert_exporter": "python",
   "pygments_lexer": "ipython3",
   "version": "3.9.13"
  }
 },
 "nbformat": 4,
 "nbformat_minor": 5
}
