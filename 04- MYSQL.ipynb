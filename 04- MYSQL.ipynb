{
 "cells": [
  {
   "cell_type": "markdown",
   "id": "0b6f6f4e",
   "metadata": {},
   "source": [
    "* در مواقعی که جداول MySQL را در حالت MyISAM قرار دهید، به خاطر عدم پشتیبانی از MVCC و پیچیدگی‌های آن، سرعت بالاتری نسبت در هنگام READ نسبت به Postgres دارد"
   ]
  },
  {
   "cell_type": "code",
   "execution_count": null,
   "id": "a74bfcb8",
   "metadata": {},
   "outputs": [],
   "source": []
  },
  {
   "cell_type": "code",
   "execution_count": null,
   "id": "172a5e7a",
   "metadata": {},
   "outputs": [],
   "source": []
  },
  {
   "cell_type": "code",
   "execution_count": null,
   "id": "80a36848",
   "metadata": {},
   "outputs": [],
   "source": []
  },
  {
   "cell_type": "code",
   "execution_count": null,
   "id": "3db653d5",
   "metadata": {},
   "outputs": [],
   "source": []
  },
  {
   "cell_type": "code",
   "execution_count": null,
   "id": "0e4513e4",
   "metadata": {},
   "outputs": [],
   "source": []
  }
 ],
 "metadata": {
  "kernelspec": {
   "display_name": "Python 3 (ipykernel)",
   "language": "python",
   "name": "python3"
  },
  "language_info": {
   "codemirror_mode": {
    "name": "ipython",
    "version": 3
   },
   "file_extension": ".py",
   "mimetype": "text/x-python",
   "name": "python",
   "nbconvert_exporter": "python",
   "pygments_lexer": "ipython3",
   "version": "3.9.13"
  }
 },
 "nbformat": 4,
 "nbformat_minor": 5
}
