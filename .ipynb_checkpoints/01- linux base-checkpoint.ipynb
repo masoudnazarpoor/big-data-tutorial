{
 "cells": [
  {
   "cell_type": "markdown",
   "id": "34871ddb",
   "metadata": {},
   "source": [
    "# linux Basic\n",
    "\n",
    "```\n",
    "- whoami\n",
    "- ip -a\n",
    "- top\n",
    "- update user password: passwd\n",
    "- ls -lah\n",
    "- where am i: pwd\n",
    "- su - username\n",
    "- adduser\n",
    "- permission: d(dir)rwx(read-write-execute)r-xr-x, lrwxrwxrwx \n",
    "- chmod 777 -R(with all sub root item) masoud\n",
    "- chown -R root:root masoud/\n",
    "- id masoud ==> uid=1000(masoud) gid=1000(masoud) groups=1000(masoud)\n",
    "- cat /etc/passwd ==> get user list\n",
    "- mkdir -p /home/masoud/projects \n",
    "- rm -rfv(v=verbose) fileOrDir\n",
    "- echo salam masoud >(replace) intro.txt & ls -lah >>(append) history.txt\n",
    "- less history.txt | wc -l\n",
    "- sort histroy.txt\n",
    "- cat history.txt \n",
    "- tree\n",
    "- create service in systemctl :\n",
    "    1 - add file filename.service into > /etc/systemd/system/\n",
    "    2 - ```\n",
    "        [Unit]\n",
    "        Description=this is python project\n",
    "        After=network.target\n",
    "        [Service]\n",
    "        User=masoud\n",
    "        WorkingDirectory=<path to your project directory containing your python script>\n",
    "        ExecStart=/home/user/.virtualenv/bin/python main.py\n",
    "        Restart=always\n",
    "        [Install]\n",
    "        WantedBy=multi-user.target\n",
    "        ```\n",
    "    3 - systemctl daemon-reload\n",
    "    4 - systemctl start your-service.service\n",
    "    5 - systemctl status example.service\n",
    "    6 - systemctl enable example.service\n",
    "    \n",
    "- python main.py & ==> run in backgroun\n",
    "- vim :\n",
    "        -: wq\n",
    "        -: q!\n",
    "        -: /search-key\n",
    "\n",
    "\n",
    "```\n",
    "\n",
    "<img src='./img/images.jfif'/>"
   ]
  },
  {
   "cell_type": "code",
   "execution_count": null,
   "id": "c89acac1",
   "metadata": {},
   "outputs": [],
   "source": []
  },
  {
   "cell_type": "code",
   "execution_count": null,
   "id": "ba963991",
   "metadata": {},
   "outputs": [],
   "source": []
  },
  {
   "cell_type": "code",
   "execution_count": null,
   "id": "a835bd9f",
   "metadata": {},
   "outputs": [],
   "source": []
  },
  {
   "cell_type": "code",
   "execution_count": null,
   "id": "3cdebf95",
   "metadata": {},
   "outputs": [],
   "source": []
  },
  {
   "cell_type": "code",
   "execution_count": null,
   "id": "aef99828",
   "metadata": {},
   "outputs": [],
   "source": []
  },
  {
   "cell_type": "code",
   "execution_count": null,
   "id": "f440c025",
   "metadata": {},
   "outputs": [],
   "source": []
  },
  {
   "cell_type": "code",
   "execution_count": null,
   "id": "56fdb079",
   "metadata": {},
   "outputs": [],
   "source": []
  },
  {
   "cell_type": "code",
   "execution_count": null,
   "id": "a1e390ab",
   "metadata": {},
   "outputs": [],
   "source": []
  },
  {
   "cell_type": "code",
   "execution_count": null,
   "id": "2f2a1e3b",
   "metadata": {},
   "outputs": [],
   "source": []
  },
  {
   "cell_type": "code",
   "execution_count": null,
   "id": "36bdb547",
   "metadata": {},
   "outputs": [],
   "source": []
  },
  {
   "cell_type": "code",
   "execution_count": null,
   "id": "a5a66c39",
   "metadata": {},
   "outputs": [],
   "source": []
  },
  {
   "cell_type": "code",
   "execution_count": null,
   "id": "0d09d0c0",
   "metadata": {},
   "outputs": [],
   "source": []
  }
 ],
 "metadata": {
  "kernelspec": {
   "display_name": "Python 3 (ipykernel)",
   "language": "python",
   "name": "python3"
  },
  "language_info": {
   "codemirror_mode": {
    "name": "ipython",
    "version": 3
   },
   "file_extension": ".py",
   "mimetype": "text/x-python",
   "name": "python",
   "nbconvert_exporter": "python",
   "pygments_lexer": "ipython3",
   "version": "3.9.13"
  }
 },
 "nbformat": 4,
 "nbformat_minor": 5
}
