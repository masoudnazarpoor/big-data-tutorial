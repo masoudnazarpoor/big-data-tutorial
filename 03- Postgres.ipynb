{
 "cells": [
  {
   "cell_type": "markdown",
   "id": "67bdc91f",
   "metadata": {},
   "source": [
    "### * Read Speed : Mysql > Postgres\n",
    "\n",
    "### INNER JOIN : Inner join is used for retrieving of data from tables that have common columns\n",
    "\n",
    "<img src='./img/join-in-sql.png'>\n",
    "<img src='./img/Screenshot from 2023-01-26 18-31-31.png'>\n",
    "\n",
    "BTree:\n",
    "<img src='./img/output256.png'>\n",
    "<img src='./img/'>\n",
    "<img src='./img/'>\n",
    "<img src='./img/'>\n",
    "\n",
    "\n",
    "* <p dir='rtl' style='text-align:right'> برای فهمیدن اسم پوشه‌ای که اطلاعات یه دیتابیس توی دیسک ذخیره شده می‌تونیم از select oid, datname from pg_database استفاده بکنیم - یکی از کارایی که برای بهبود پرفرمنس میشه کرد اینه که بیایم table space متفاوت تعریف بکنیم و بگیم جداول پر استفادمون بره به یکی از table space هایی که مشخص کردیم و اون مسیر رو mount به یه دیسک خیلی پر سرعت کنیم\n",
    "</p>\n",
    "\n",
    "\n",
    "\n",
    "* <p dir='rtl' style='text-align:right'>\n",
    "indexes: برای وقتی است که میخواهیم جستجو کنیم با سرعت بالا\n",
    "* یکی از کارهای پایگاه داده re-write کردن کوئری با هدف بهینه تر کردن سرعت اجرا هست (کار Query Planner هست) - با EXPLAIN و EXPLAIN ANALYZE می‌تونیم ببینیمون کوئریمون به چه شکل اجرا میشه\n",
    "\n",
    "    \n",
    "* Relational database try to reduce disk I/O with indexes    \n",
    "* Relational database not good for insert because :\n",
    "    for every insert recreate all of tree\n",
    "    but good for read an search data\n",
    "  \n",
    "index algorithm :\n",
    " - Binary Tree: O(n)\n",
    " - BTree : log(n)\n",
    " - B+Tree : log(n)  \n",
    "    \n",
    "index Type:    \n",
    " - unique\n",
    " - check\n",
    "\n",
    "</p>"
   ]
  },
  {
   "cell_type": "code",
   "execution_count": null,
   "id": "785b23a4",
   "metadata": {},
   "outputs": [],
   "source": []
  },
  {
   "cell_type": "code",
   "execution_count": null,
   "id": "6927d77e",
   "metadata": {},
   "outputs": [],
   "source": []
  },
  {
   "cell_type": "code",
   "execution_count": null,
   "id": "51591f1a",
   "metadata": {},
   "outputs": [],
   "source": []
  },
  {
   "cell_type": "code",
   "execution_count": null,
   "id": "4cf89fe4",
   "metadata": {},
   "outputs": [],
   "source": []
  },
  {
   "cell_type": "code",
   "execution_count": null,
   "id": "1057e976",
   "metadata": {},
   "outputs": [],
   "source": []
  }
 ],
 "metadata": {
  "kernelspec": {
   "display_name": "Python 3 (ipykernel)",
   "language": "python",
   "name": "python3"
  },
  "language_info": {
   "codemirror_mode": {
    "name": "ipython",
    "version": 3
   },
   "file_extension": ".py",
   "mimetype": "text/x-python",
   "name": "python",
   "nbconvert_exporter": "python",
   "pygments_lexer": "ipython3",
   "version": "3.9.13"
  }
 },
 "nbformat": 4,
 "nbformat_minor": 5
}
